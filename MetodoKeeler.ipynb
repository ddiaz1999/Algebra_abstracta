{
  "nbformat": 4,
  "nbformat_minor": 0,
  "metadata": {
    "colab": {
      "name": "MetodoKeeler.ipynb",
      "provenance": [],
      "authorship_tag": "ABX9TyMJDjsoaSnrN8XFRorzDHYI",
      "include_colab_link": true
    },
    "kernelspec": {
      "name": "python3",
      "display_name": "Python 3"
    },
    "language_info": {
      "name": "python"
    }
  },
  "cells": [
    {
      "cell_type": "markdown",
      "metadata": {
        "id": "view-in-github",
        "colab_type": "text"
      },
      "source": [
        "<a href=\"https://colab.research.google.com/github/ddiaz1999/Algebra_abstracta/blob/main/MetodoKeeler.ipynb\" target=\"_parent\"><img src=\"https://colab.research.google.com/assets/colab-badge.svg\" alt=\"Open In Colab\"/></a>"
      ]
    },
    {
      "cell_type": "code",
      "metadata": {
        "colab": {
          "base_uri": "https://localhost:8080/"
        },
        "id": "SFnqfJP6hSaL",
        "outputId": "1b37cb8b-8a59-48f6-cc1d-2e5cfbbfde6e"
      },
      "source": [
        "from sympy.combinatorics import Permutation\n",
        "from sympy.interactive import init_printing\n",
        "init_printing(perm_cyclic=False, pretty_print=False)\n",
        "\n",
        "def disjuntos(perm):\n",
        "    pi = {i+1: perm[i] for i in range(len(perm))}\n",
        "    ciclos = []\n",
        "    while pi:\n",
        "        elem0 = next(iter(pi)) # arbitrary starting element\n",
        "        este_elem = pi[elem0]\n",
        "        sig_item = pi[este_elem]\n",
        "        ciclo = []\n",
        "        while True:\n",
        "            ciclo.append(este_elem)\n",
        "            del pi[este_elem]\n",
        "            este_elem = sig_item\n",
        "            if sig_item in pi:\n",
        "                sig_item = pi[sig_item]\n",
        "            else:\n",
        "                break\n",
        "        ciclos.append(ciclo)\n",
        "    return ciclos\n",
        "\n",
        "def Metodo_Keeler(P):\n",
        "  alpha,beta = max(P)+1, max(P)+2\n",
        "  nuevos = Permutation(alpha,beta)\n",
        "  Intercambio = disjuntos(P)\n",
        "  l = 0\n",
        "  while l < len(Intercambio):\n",
        "    if len(Intercambio[l]) == 1:\n",
        "      Intercambio.remove(Intercambio[l])\n",
        "    else:\n",
        "      l +=1 \n",
        "\n",
        "  numero_de_ciclos = len(Intercambio)\n",
        "  permutacion = Permutation(Intercambio)\n",
        "  sigmas = []\n",
        "\n",
        "  for i in range(numero_de_ciclos):\n",
        "    sigma_i = []\n",
        "    for j in range(len(Intercambio[i])-1):\n",
        "      sigma_i.append([alpha,Intercambio[i][j]])\n",
        "\n",
        "    sigma_i.append([beta,Intercambio[i][-1]])\n",
        "    sigma_i.append([alpha,Intercambio[i][-1]])\n",
        "    sigma_i.append([beta,Intercambio[i][0]])\n",
        "    sigmas.append(sigma_i)\n",
        "\n",
        "  nuevos_sigmas = []\n",
        "  for ciclos in sigmas:\n",
        "    ciclos.reverse()\n",
        "    nuevos_sigmas.append(Permutation(ciclos))\n",
        "  print(\"Sigmas construidos: \",nuevos_sigmas)\n",
        "  tau = 1\n",
        "  for sigma_j in reversed(nuevos_sigmas):\n",
        "    tau = tau*sigma_j\n",
        "  print(\"tau: \",tau)\n",
        "  if numero_de_ciclos % 2 == 0:\n",
        "    sigma_final = tau\n",
        "  else:\n",
        "    sigma_final = nuevos*tau\n",
        "  print(\"Sigma final: \",sigma_final)\n",
        "   \n",
        "  print(\"sigma*P\",sigma_final*permutacion)\n",
        "\n",
        "#---------------------------------------------------------------\n",
        "# Ejemplo de permutación\n",
        "\n",
        "P = [13,18,10,15,19,6,4,14,1,12,9,2,5,20,11,7,17,8,16,3]\n",
        "\n",
        "print(\"Descomposición en ciclos disjuntos de P: \",disjuntos(P))\n",
        "Metodo_Keeler(P)"
      ],
      "execution_count": 18,
      "outputs": [
        {
          "output_type": "stream",
          "text": [
            "Descomposición en ciclos disjuntos de P:  [[13, 5, 19, 16, 7, 4, 15, 11, 9, 1], [18, 8, 14, 20, 3, 10, 12, 2], [6], [17]]\n",
            "Sigmas construidos:  [Permutation(1, 9, 11, 15, 4, 7, 16, 19, 5, 13)(21, 22), Permutation(2, 12, 10, 3, 20, 14, 8, 18)(21, 22)]\n",
            "tau:  (22)(1 9 11 15 4 7 16 19 5 13)(2 12 10 3 20 14 8 18)\n",
            "Sigma final:  (22)(1 9 11 15 4 7 16 19 5 13)(2 12 10 3 20 14 8 18)\n",
            "sigma*P (22)\n"
          ],
          "name": "stdout"
        }
      ]
    }
  ]
}