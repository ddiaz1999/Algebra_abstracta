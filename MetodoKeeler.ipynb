{
  "nbformat": 4,
  "nbformat_minor": 0,
  "metadata": {
    "colab": {
      "name": "MetodoKeeler.ipynb",
      "provenance": [],
      "authorship_tag": "ABX9TyPgHnet/WJSfAizuzUe1a1Z",
      "include_colab_link": true
    },
    "kernelspec": {
      "name": "python3",
      "display_name": "Python 3"
    },
    "language_info": {
      "name": "python"
    }
  },
  "cells": [
    {
      "cell_type": "markdown",
      "metadata": {
        "id": "view-in-github",
        "colab_type": "text"
      },
      "source": [
        "<a href=\"https://colab.research.google.com/github/ddiaz1999/Algebra_abstracta/blob/main/MetodoKeeler.ipynb\" target=\"_parent\"><img src=\"https://colab.research.google.com/assets/colab-badge.svg\" alt=\"Open In Colab\"/></a>"
      ]
    },
    {
      "cell_type": "code",
      "metadata": {
        "colab": {
          "base_uri": "https://localhost:8080/"
        },
        "id": "SFnqfJP6hSaL",
        "outputId": "9679a1f7-2abc-41c5-ab99-307e719976c9"
      },
      "source": [
        "from sympy.combinatorics import Permutation\n",
        "from sympy.interactive import init_printing\n",
        "init_printing(perm_cyclic=False, pretty_print=False)\n",
        "\n",
        "def to_cycles(perm):\n",
        "    pi = {i+1: perm[i] for i in range(len(perm))}\n",
        "    cycles = []\n",
        "\n",
        "    while pi:\n",
        "        elem0 = next(iter(pi)) # arbitrary starting element\n",
        "        this_elem = pi[elem0]\n",
        "        next_item = pi[this_elem]\n",
        "\n",
        "        cycle = []\n",
        "        while True:\n",
        "            cycle.append(this_elem)\n",
        "            del pi[this_elem]\n",
        "            this_elem = next_item\n",
        "            if next_item in pi:\n",
        "                next_item = pi[next_item]\n",
        "            else:\n",
        "                break\n",
        "\n",
        "        cycles.append(cycle)\n",
        "\n",
        "    return cycles\n",
        "\n",
        "def Metodo_Keeler(P):\n",
        "  alpha,beta = max(P)+1, max(P)+2\n",
        "  nuevos = Permutation(alpha,beta)\n",
        "  Intercambio = to_cycles(P)\n",
        "  l = 0\n",
        "  while l < len(Intercambio):\n",
        "    if len(Intercambio[l]) == 1:\n",
        "      Intercambio.remove(Intercambio[l])\n",
        "    else:\n",
        "      l +=1 \n",
        "\n",
        "  numero_de_ciclos = len(Intercambio)\n",
        "  permutacion = Permutation(Intercambio)\n",
        "  sigmas = []\n",
        "\n",
        "  for i in range(numero_de_ciclos):\n",
        "    sigma_i = []\n",
        "    for j in range(len(Intercambio[i])-1):\n",
        "      sigma_i.append([alpha,Intercambio[i][j]])\n",
        "\n",
        "    sigma_i.append([beta,Intercambio[i][-1]])\n",
        "    sigma_i.append([alpha,Intercambio[i][-1]])\n",
        "    sigma_i.append([beta,Intercambio[i][0]])\n",
        "    sigmas.append(sigma_i)\n",
        "\n",
        "  nuevos_sigmas = []\n",
        "  for ciclos in sigmas:\n",
        "    ciclos.reverse()\n",
        "    nuevos_sigmas.append(Permutation(ciclos))\n",
        "  print(nuevos_sigmas)\n",
        "  tau = 1\n",
        "  for sigma_j in reversed(nuevos_sigmas):\n",
        "    tau = tau*sigma_j\n",
        "  print(\"tau: \",tau)\n",
        "  if numero_de_ciclos % 2 == 0:\n",
        "    sigma_final = tau\n",
        "  else:\n",
        "    sigma_final = nuevos*tau\n",
        "   \n",
        "  print(sigma_final*permutacion)\n",
        "\n",
        "\n",
        "\n",
        "#P = [13,2,15,14,10,6,12,3,4,1,7,9,5,11,8]\n",
        "P = [13,18,10,15,19,6,4,14,1,12,9,2,5,20,11,7,17,8,16,3]\n",
        "#P = [4,5,1,3,2]\n",
        "#P = [1,2,4,3]\n",
        "\n",
        "print(\"Descomposición en ciclos disjuntos de P: \",to_cycles(P))\n",
        "\n",
        "\n",
        "Metodo_Keeler(P)\n"
      ],
      "execution_count": 1,
      "outputs": [
        {
          "output_type": "stream",
          "text": [
            "Descomposición en ciclos disjuntos de P:  [[13, 5, 19, 16, 7, 4, 15, 11, 9, 1], [18, 8, 14, 20, 3, 10, 12, 2], [6], [17]]\n",
            "[Permutation(1, 9, 11, 15, 4, 7, 16, 19, 5, 13)(21, 22), Permutation(2, 12, 10, 3, 20, 14, 8, 18)(21, 22)]\n",
            "tau:  (22)(1 9 11 15 4 7 16 19 5 13)(2 12 10 3 20 14 8 18)\n",
            "(22)\n"
          ],
          "name": "stdout"
        }
      ]
    }
  ]
}